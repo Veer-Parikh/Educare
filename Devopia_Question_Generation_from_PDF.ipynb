{
  "nbformat": 4,
  "nbformat_minor": 0,
  "metadata": {
    "colab": {
      "provenance": [],
      "authorship_tag": "ABX9TyMn5fOsFKssiGqeCZoSr/64",
      "include_colab_link": true
    },
    "kernelspec": {
      "name": "python3",
      "display_name": "Python 3"
    },
    "language_info": {
      "name": "python"
    }
  },
  "cells": [
    {
      "cell_type": "markdown",
      "metadata": {
        "id": "view-in-github",
        "colab_type": "text"
      },
      "source": [
        "<a href=\"https://colab.research.google.com/github/Veer-Parikh/git_init_devopia/blob/main/Devopia_Question_Generation_from_PDF.ipynb\" target=\"_parent\"><img src=\"https://colab.research.google.com/assets/colab-badge.svg\" alt=\"Open In Colab\"/></a>"
      ]
    },
    {
      "cell_type": "code",
      "execution_count": 17,
      "metadata": {
        "id": "Jg1WF5VUjpuy"
      },
      "outputs": [],
      "source": [
        "!pip install fastapi[all] nest-asyncio pyngrok uvicorn streamlit pdfplumber -q"
      ]
    },
    {
      "cell_type": "code",
      "source": [
        "import pandas as pd\n",
        "import numpy as np\n",
        "import locale\n",
        "def getpreferredencoding(do_setlocale = True):\n",
        "    return \"UTF-8\"\n",
        "locale.getpreferredencoding = getpreferredencoding"
      ],
      "metadata": {
        "id": "jHM-vlRZkCYc"
      },
      "execution_count": 18,
      "outputs": []
    },
    {
      "cell_type": "code",
      "source": [
        "import nest_asyncio\n",
        "from pyngrok import ngrok\n",
        "import uvicorn"
      ],
      "metadata": {
        "id": "R4Sla_PhLqUT"
      },
      "execution_count": 22,
      "outputs": []
    },
    {
      "cell_type": "code",
      "source": [
        "!ngrok config add-authtoken"
      ],
      "metadata": {
        "colab": {
          "base_uri": "https://localhost:8080/"
        },
        "id": "Fyu9LmQ_kVly",
        "outputId": "d2c611aa-4a59-4136-9c4e-acdc719bb08b"
      },
      "execution_count": 19,
      "outputs": [
        {
          "output_type": "stream",
          "name": "stdout",
          "text": [
            "Authtoken saved to configuration file: /root/.config/ngrok/ngrok.yml\n"
          ]
        }
      ]
    },
    {
      "cell_type": "code",
      "source": [
        "import pdfplumber\n",
        "import spacy\n",
        "import random\n",
        "from fastapi import FastAPI\n",
        "from fastapi.middleware.cors import CORSMiddleware  # Import CORSMiddleware\n",
        "from pydantic import BaseModel\n",
        "\n",
        "app = FastAPI()\n",
        "\n",
        "# Enable CORS (Cross-Origin Resource Sharing)\n",
        "app.add_middleware(\n",
        "    CORSMiddleware,\n",
        "    allow_origins=[\"*\"],  # Allow requests from any origin\n",
        "    allow_credentials=True,\n",
        "    allow_methods=[\"GET\", \"POST\", \"PUT\", \"DELETE\", \"OPTIONS\"],\n",
        "    allow_headers=[\"*\"],\n",
        ")\n",
        "\n",
        "nlp = spacy.load(\"en_core_web_sm\")\n",
        "\n",
        "class QAData(BaseModel):\n",
        "    id: int\n",
        "    question: str\n",
        "    answer: str\n",
        "\n",
        "def extract_text_from_pdf(pdf_path):\n",
        "    with pdfplumber.open(pdf_path) as pdf:\n",
        "        text = \"\"\n",
        "        for page in pdf.pages:\n",
        "            text += page.extract_text()\n",
        "    return text\n",
        "\n",
        "def generate_questions_and_answers(text):\n",
        "    doc = nlp(text)\n",
        "    sentences = [sent.text.strip() for sent in doc.sents]\n",
        "\n",
        "    # Randomly select sentences to generate questions from\n",
        "    selected_sentences = random.sample(sentences, min(len(sentences), 20))\n",
        "\n",
        "    # Create a list to store question-answer pairs\n",
        "    qa_pairs = []\n",
        "\n",
        "    # Generate an ID for each question-answer pair\n",
        "    for i, sentence in enumerate(selected_sentences, 1):\n",
        "        words = sentence.split()\n",
        "        if len(words) > 1:\n",
        "            answer = random.choice(words)\n",
        "            question = sentence.replace(answer, \"__________\")\n",
        "            qa_pairs.append(QAData(id=i, question=question, answer=answer))\n",
        "\n",
        "    return qa_pairs\n",
        "\n",
        "@app.get(\"/generate_question_answer_pairs/\")\n",
        "async def generate_question_answer_pairs():\n",
        "    pdf_path = \"/content/Memory Organization.pdf\"\n",
        "    text = extract_text_from_pdf(pdf_path)\n",
        "    qa_pairs = generate_questions_and_answers(text)\n",
        "    return {\"question_answer_pairs\": [qa.dict() for qa in qa_pairs]}\n"
      ],
      "metadata": {
        "id": "zcUc1pHvLNFK"
      },
      "execution_count": 20,
      "outputs": []
    },
    {
      "cell_type": "code",
      "source": [
        "ngrok_tunnel = ngrok.connect(8000)\n",
        "print('Public URL:', ngrok_tunnel.public_url) # click on this in the output and add a /docs in the URL to visit your created API\n",
        "nest_asyncio.apply()\n",
        "uvicorn.run(app, port = 8000)"
      ],
      "metadata": {
        "colab": {
          "base_uri": "https://localhost:8080/"
        },
        "id": "KbIRUFeVkhhp",
        "outputId": "0468b430-0e67-4426-c526-6d6b9fc6b114"
      },
      "execution_count": null,
      "outputs": [
        {
          "output_type": "stream",
          "name": "stderr",
          "text": [
            "INFO:     Started server process [299]\n",
            "INFO:     Waiting for application startup.\n",
            "INFO:     Application startup complete.\n",
            "INFO:     Uvicorn running on http://127.0.0.1:8000 (Press CTRL+C to quit)\n"
          ]
        },
        {
          "output_type": "stream",
          "name": "stdout",
          "text": [
            "Public URL: https://edd7-34-141-147-176.ngrok-free.app\n",
            "INFO:     2409:40c0:5a:abcb:8000:::0 - \"GET / HTTP/1.1\" 404 Not Found\n",
            "INFO:     2409:40c0:5a:abcb:8000:::0 - \"GET /generate_question_answer_pairs/ HTTP/1.1\" 200 OK\n",
            "INFO:     115.112.43.148:0 - \"GET /generate_question_answer_pairs/ HTTP/1.1\" 200 OK\n",
            "INFO:     115.112.43.148:0 - \"GET /favicon.ico HTTP/1.1\" 404 Not Found\n",
            "INFO:     115.112.43.148:0 - \"GET /generate_question_answer_pairs/ HTTP/1.1\" 200 OK\n"
          ]
        }
      ]
    }
  ]
}